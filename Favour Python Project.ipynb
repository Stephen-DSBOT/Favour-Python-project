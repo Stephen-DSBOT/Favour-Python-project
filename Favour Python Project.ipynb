{
 "cells": [
  {
   "cell_type": "markdown",
   "metadata": {},
   "source": [
    "# Predictive Model to Determine Insurance Claim Filings Within 3 Months: Improving Risk Management and Business Operations"
   ]
  },
  {
   "cell_type": "code",
   "execution_count": 119,
   "metadata": {},
   "outputs": [],
   "source": [
    "#Customer segmentation analysis for car insurance: Analyzing customer\n",
    "#data to identify different groups of customers based on their driving\n",
    "#behaviors, demographics, and other factors, accurately determine\n",
    "#whether customers of an insurance company are likely to file an \n",
    "#insurance claim within the next three(3) months.\n",
    "\n",
    "#Ultimately, the project's goal is to provide a reliable predictive\n",
    "#model that can help them make informed decisions about customer \n",
    "#risk management and improve their overall business operations."
   ]
  },
  {
   "cell_type": "code",
   "execution_count": 120,
   "metadata": {},
   "outputs": [
    {
     "name": "stdout",
     "output_type": "stream",
     "text": [
      "Libraries Imported\n"
     ]
    }
   ],
   "source": [
    "#importing all the necessary Python libraries for project implementation \n",
    "#the code in line 8 is to allw the resulting plots of matplotlib to be\n",
    "#displayed inline within the jupyter notebook.\n",
    "\n",
    "import pandas as pd\n",
    "import numpy as np\n",
    "import matplotlib as plt\n",
    "%matplotlib inline\n",
    "import seaborn as sns\n",
    "import datetime as dt\n",
    "\n",
    "print(\"Libraries Imported\")"
   ]
  },
  {
   "cell_type": "markdown",
   "metadata": {},
   "source": [
    "Uploading the data files into my jupiter notebook"
   ]
  },
  {
   "cell_type": "code",
   "execution_count": 121,
   "metadata": {},
   "outputs": [
    {
     "data": {
      "text/html": [
       "<div>\n",
       "<style scoped>\n",
       "    .dataframe tbody tr th:only-of-type {\n",
       "        vertical-align: middle;\n",
       "    }\n",
       "\n",
       "    .dataframe tbody tr th {\n",
       "        vertical-align: top;\n",
       "    }\n",
       "\n",
       "    .dataframe thead th {\n",
       "        text-align: right;\n",
       "    }\n",
       "</style>\n",
       "<table border=\"1\" class=\"dataframe\">\n",
       "  <thead>\n",
       "    <tr style=\"text-align: right;\">\n",
       "      <th></th>\n",
       "      <th>ID</th>\n",
       "      <th>Policy Start Date</th>\n",
       "      <th>Policy End Date</th>\n",
       "      <th>Gender</th>\n",
       "      <th>Age</th>\n",
       "      <th>First Transaction Date</th>\n",
       "      <th>No_Pol</th>\n",
       "      <th>Car_Category</th>\n",
       "      <th>Subject_Car_Colour</th>\n",
       "      <th>Subject_Car_Make</th>\n",
       "      <th>LGA_Name</th>\n",
       "      <th>State</th>\n",
       "      <th>ProductName</th>\n",
       "      <th>target</th>\n",
       "    </tr>\n",
       "  </thead>\n",
       "  <tbody>\n",
       "    <tr>\n",
       "      <th>0</th>\n",
       "      <td>ID_0040R73</td>\n",
       "      <td>2010-05-14</td>\n",
       "      <td>2011-05-13</td>\n",
       "      <td>Male</td>\n",
       "      <td>30</td>\n",
       "      <td>2010-05-14</td>\n",
       "      <td>1</td>\n",
       "      <td>Saloon</td>\n",
       "      <td>Black</td>\n",
       "      <td>TOYOTA</td>\n",
       "      <td>NaN</td>\n",
       "      <td>NaN</td>\n",
       "      <td>Car Classic</td>\n",
       "      <td>0</td>\n",
       "    </tr>\n",
       "    <tr>\n",
       "      <th>1</th>\n",
       "      <td>ID_0046BNK</td>\n",
       "      <td>2010-11-29</td>\n",
       "      <td>2011-11-28</td>\n",
       "      <td>Female</td>\n",
       "      <td>79</td>\n",
       "      <td>2010-11-29</td>\n",
       "      <td>1</td>\n",
       "      <td>JEEP</td>\n",
       "      <td>Grey</td>\n",
       "      <td>TOYOTA</td>\n",
       "      <td>NaN</td>\n",
       "      <td>NaN</td>\n",
       "      <td>Car Classic</td>\n",
       "      <td>1</td>\n",
       "    </tr>\n",
       "    <tr>\n",
       "      <th>2</th>\n",
       "      <td>ID_005QMC3</td>\n",
       "      <td>2010-03-21</td>\n",
       "      <td>2011-03-20</td>\n",
       "      <td>Male</td>\n",
       "      <td>43</td>\n",
       "      <td>2010-03-21</td>\n",
       "      <td>1</td>\n",
       "      <td>Saloon</td>\n",
       "      <td>Red</td>\n",
       "      <td>TOYOTA</td>\n",
       "      <td>NaN</td>\n",
       "      <td>NaN</td>\n",
       "      <td>Car Classic</td>\n",
       "      <td>0</td>\n",
       "    </tr>\n",
       "    <tr>\n",
       "      <th>3</th>\n",
       "      <td>ID_0079OHW</td>\n",
       "      <td>2010-08-21</td>\n",
       "      <td>2011-08-20</td>\n",
       "      <td>Male</td>\n",
       "      <td>2</td>\n",
       "      <td>2010-08-21</td>\n",
       "      <td>1</td>\n",
       "      <td>NaN</td>\n",
       "      <td>NaN</td>\n",
       "      <td>NaN</td>\n",
       "      <td>NaN</td>\n",
       "      <td>NaN</td>\n",
       "      <td>CarSafe</td>\n",
       "      <td>0</td>\n",
       "    </tr>\n",
       "    <tr>\n",
       "      <th>4</th>\n",
       "      <td>ID_00BRP63</td>\n",
       "      <td>2010-08-29</td>\n",
       "      <td>2010-12-31</td>\n",
       "      <td>Entity</td>\n",
       "      <td>20</td>\n",
       "      <td>2010-08-29</td>\n",
       "      <td>3</td>\n",
       "      <td>NaN</td>\n",
       "      <td>NaN</td>\n",
       "      <td>NaN</td>\n",
       "      <td>Lagos</td>\n",
       "      <td>Lagos</td>\n",
       "      <td>Muuve</td>\n",
       "      <td>1</td>\n",
       "    </tr>\n",
       "    <tr>\n",
       "      <th>...</th>\n",
       "      <td>...</td>\n",
       "      <td>...</td>\n",
       "      <td>...</td>\n",
       "      <td>...</td>\n",
       "      <td>...</td>\n",
       "      <td>...</td>\n",
       "      <td>...</td>\n",
       "      <td>...</td>\n",
       "      <td>...</td>\n",
       "      <td>...</td>\n",
       "      <td>...</td>\n",
       "      <td>...</td>\n",
       "      <td>...</td>\n",
       "      <td>...</td>\n",
       "    </tr>\n",
       "    <tr>\n",
       "      <th>12074</th>\n",
       "      <td>ID_ZZA1SES</td>\n",
       "      <td>2010-05-25</td>\n",
       "      <td>2011-05-24</td>\n",
       "      <td>Female</td>\n",
       "      <td>30</td>\n",
       "      <td>2010-05-25</td>\n",
       "      <td>1</td>\n",
       "      <td>NaN</td>\n",
       "      <td>Black</td>\n",
       "      <td>Range Rover</td>\n",
       "      <td>Ibeju/Lekki</td>\n",
       "      <td>Ibeju-Lekki</td>\n",
       "      <td>Car Classic</td>\n",
       "      <td>1</td>\n",
       "    </tr>\n",
       "    <tr>\n",
       "      <th>12075</th>\n",
       "      <td>ID_ZZDAC3K</td>\n",
       "      <td>2010-10-03</td>\n",
       "      <td>2011-10-02</td>\n",
       "      <td>Female</td>\n",
       "      <td>59</td>\n",
       "      <td>2010-10-03</td>\n",
       "      <td>1</td>\n",
       "      <td>NaN</td>\n",
       "      <td>NaN</td>\n",
       "      <td>NaN</td>\n",
       "      <td>NaN</td>\n",
       "      <td>NaN</td>\n",
       "      <td>Car Classic</td>\n",
       "      <td>0</td>\n",
       "    </tr>\n",
       "    <tr>\n",
       "      <th>12076</th>\n",
       "      <td>ID_ZZIU2XC</td>\n",
       "      <td>2010-10-10</td>\n",
       "      <td>2011-10-08</td>\n",
       "      <td>Male</td>\n",
       "      <td>34</td>\n",
       "      <td>2010-10-10</td>\n",
       "      <td>1</td>\n",
       "      <td>NaN</td>\n",
       "      <td>NaN</td>\n",
       "      <td>NaN</td>\n",
       "      <td>NaN</td>\n",
       "      <td>NaN</td>\n",
       "      <td>CarSafe</td>\n",
       "      <td>0</td>\n",
       "    </tr>\n",
       "    <tr>\n",
       "      <th>12077</th>\n",
       "      <td>ID_ZZRQ1NF</td>\n",
       "      <td>2010-02-27</td>\n",
       "      <td>2011-02-26</td>\n",
       "      <td>NaN</td>\n",
       "      <td>120</td>\n",
       "      <td>2010-02-27</td>\n",
       "      <td>2</td>\n",
       "      <td>NaN</td>\n",
       "      <td>White</td>\n",
       "      <td>TOYOTA</td>\n",
       "      <td>Victoria Island</td>\n",
       "      <td>Lagos</td>\n",
       "      <td>CVTP</td>\n",
       "      <td>0</td>\n",
       "    </tr>\n",
       "    <tr>\n",
       "      <th>12078</th>\n",
       "      <td>ID_ZZWRIIE</td>\n",
       "      <td>2010-07-01</td>\n",
       "      <td>2011-06-30</td>\n",
       "      <td>Female</td>\n",
       "      <td>46</td>\n",
       "      <td>2010-07-01</td>\n",
       "      <td>2</td>\n",
       "      <td>JEEP</td>\n",
       "      <td>Black</td>\n",
       "      <td>Land Rover</td>\n",
       "      <td>Lagos Island</td>\n",
       "      <td>Lagos</td>\n",
       "      <td>Car Classic</td>\n",
       "      <td>0</td>\n",
       "    </tr>\n",
       "  </tbody>\n",
       "</table>\n",
       "<p>12079 rows × 14 columns</p>\n",
       "</div>"
      ],
      "text/plain": [
       "               ID Policy Start Date Policy End Date  Gender  Age  \\\n",
       "0      ID_0040R73        2010-05-14      2011-05-13    Male   30   \n",
       "1      ID_0046BNK        2010-11-29      2011-11-28  Female   79   \n",
       "2      ID_005QMC3        2010-03-21      2011-03-20    Male   43   \n",
       "3      ID_0079OHW        2010-08-21      2011-08-20    Male    2   \n",
       "4      ID_00BRP63        2010-08-29      2010-12-31  Entity   20   \n",
       "...           ...               ...             ...     ...  ...   \n",
       "12074  ID_ZZA1SES        2010-05-25      2011-05-24  Female   30   \n",
       "12075  ID_ZZDAC3K        2010-10-03      2011-10-02  Female   59   \n",
       "12076  ID_ZZIU2XC        2010-10-10      2011-10-08    Male   34   \n",
       "12077  ID_ZZRQ1NF        2010-02-27      2011-02-26     NaN  120   \n",
       "12078  ID_ZZWRIIE        2010-07-01      2011-06-30  Female   46   \n",
       "\n",
       "      First Transaction Date  No_Pol Car_Category Subject_Car_Colour  \\\n",
       "0                 2010-05-14       1       Saloon              Black   \n",
       "1                 2010-11-29       1         JEEP               Grey   \n",
       "2                 2010-03-21       1       Saloon                Red   \n",
       "3                 2010-08-21       1          NaN                NaN   \n",
       "4                 2010-08-29       3          NaN                NaN   \n",
       "...                      ...     ...          ...                ...   \n",
       "12074             2010-05-25       1          NaN              Black   \n",
       "12075             2010-10-03       1          NaN                NaN   \n",
       "12076             2010-10-10       1          NaN                NaN   \n",
       "12077             2010-02-27       2          NaN              White   \n",
       "12078             2010-07-01       2         JEEP              Black   \n",
       "\n",
       "      Subject_Car_Make         LGA_Name        State  ProductName  target  \n",
       "0               TOYOTA              NaN          NaN  Car Classic       0  \n",
       "1               TOYOTA              NaN          NaN  Car Classic       1  \n",
       "2               TOYOTA              NaN          NaN  Car Classic       0  \n",
       "3                  NaN              NaN          NaN      CarSafe       0  \n",
       "4                  NaN            Lagos        Lagos        Muuve       1  \n",
       "...                ...              ...          ...          ...     ...  \n",
       "12074      Range Rover      Ibeju/Lekki  Ibeju-Lekki  Car Classic       1  \n",
       "12075              NaN              NaN          NaN  Car Classic       0  \n",
       "12076              NaN              NaN          NaN      CarSafe       0  \n",
       "12077           TOYOTA  Victoria Island        Lagos         CVTP       0  \n",
       "12078       Land Rover     Lagos Island        Lagos  Car Classic       0  \n",
       "\n",
       "[12079 rows x 14 columns]"
      ]
     },
     "metadata": {},
     "output_type": "display_data"
    },
    {
     "data": {
      "text/html": [
       "<div>\n",
       "<style scoped>\n",
       "    .dataframe tbody tr th:only-of-type {\n",
       "        vertical-align: middle;\n",
       "    }\n",
       "\n",
       "    .dataframe tbody tr th {\n",
       "        vertical-align: top;\n",
       "    }\n",
       "\n",
       "    .dataframe thead th {\n",
       "        text-align: right;\n",
       "    }\n",
       "</style>\n",
       "<table border=\"1\" class=\"dataframe\">\n",
       "  <thead>\n",
       "    <tr style=\"text-align: right;\">\n",
       "      <th></th>\n",
       "      <th>ID</th>\n",
       "      <th>Policy Start Date</th>\n",
       "      <th>Policy End Date</th>\n",
       "      <th>Gender</th>\n",
       "      <th>Age</th>\n",
       "      <th>First Transaction Date</th>\n",
       "      <th>No_Pol</th>\n",
       "      <th>Car_Category</th>\n",
       "      <th>Subject_Car_Colour</th>\n",
       "      <th>Subject_Car_Make</th>\n",
       "      <th>LGA_Name</th>\n",
       "      <th>State</th>\n",
       "      <th>ProductName</th>\n",
       "    </tr>\n",
       "  </thead>\n",
       "  <tbody>\n",
       "    <tr>\n",
       "      <th>0</th>\n",
       "      <td>ID_01QM0NU</td>\n",
       "      <td>2010-10-23</td>\n",
       "      <td>2011-10-22</td>\n",
       "      <td>Female</td>\n",
       "      <td>46</td>\n",
       "      <td>2010-10-23</td>\n",
       "      <td>1</td>\n",
       "      <td>NaN</td>\n",
       "      <td>NaN</td>\n",
       "      <td>Ford</td>\n",
       "      <td>Abuja Municipal</td>\n",
       "      <td>Abuja-Municipal</td>\n",
       "      <td>Car Classic</td>\n",
       "    </tr>\n",
       "    <tr>\n",
       "      <th>1</th>\n",
       "      <td>ID_024NJLZ</td>\n",
       "      <td>2010-10-14</td>\n",
       "      <td>2011-10-13</td>\n",
       "      <td>Male</td>\n",
       "      <td>32</td>\n",
       "      <td>2010-10-14</td>\n",
       "      <td>1</td>\n",
       "      <td>NaN</td>\n",
       "      <td>NaN</td>\n",
       "      <td>NaN</td>\n",
       "      <td>Kosofe</td>\n",
       "      <td>Benue</td>\n",
       "      <td>Car Classic</td>\n",
       "    </tr>\n",
       "    <tr>\n",
       "      <th>2</th>\n",
       "      <td>ID_02NOVWQ</td>\n",
       "      <td>2010-08-29</td>\n",
       "      <td>2011-08-28</td>\n",
       "      <td>Female</td>\n",
       "      <td>45</td>\n",
       "      <td>2010-08-29</td>\n",
       "      <td>2</td>\n",
       "      <td>Saloon</td>\n",
       "      <td>Black</td>\n",
       "      <td>Honda</td>\n",
       "      <td>Wuse 11</td>\n",
       "      <td>Abuja</td>\n",
       "      <td>Car Classic</td>\n",
       "    </tr>\n",
       "    <tr>\n",
       "      <th>3</th>\n",
       "      <td>ID_02VSP68</td>\n",
       "      <td>2010-06-13</td>\n",
       "      <td>2011-06-12</td>\n",
       "      <td>Female</td>\n",
       "      <td>58</td>\n",
       "      <td>2010-06-13</td>\n",
       "      <td>1</td>\n",
       "      <td>Saloon</td>\n",
       "      <td>NaN</td>\n",
       "      <td>TOYOTA</td>\n",
       "      <td>NaN</td>\n",
       "      <td>NaN</td>\n",
       "      <td>CarSafe</td>\n",
       "    </tr>\n",
       "    <tr>\n",
       "      <th>4</th>\n",
       "      <td>ID_02YB37K</td>\n",
       "      <td>2010-07-01</td>\n",
       "      <td>2011-06-30</td>\n",
       "      <td>NaN</td>\n",
       "      <td>120</td>\n",
       "      <td>2010-07-01</td>\n",
       "      <td>1</td>\n",
       "      <td>Saloon</td>\n",
       "      <td>Red</td>\n",
       "      <td>Hyundai</td>\n",
       "      <td>Victoria Island</td>\n",
       "      <td>Lagos</td>\n",
       "      <td>Car Classic</td>\n",
       "    </tr>\n",
       "    <tr>\n",
       "      <th>...</th>\n",
       "      <td>...</td>\n",
       "      <td>...</td>\n",
       "      <td>...</td>\n",
       "      <td>...</td>\n",
       "      <td>...</td>\n",
       "      <td>...</td>\n",
       "      <td>...</td>\n",
       "      <td>...</td>\n",
       "      <td>...</td>\n",
       "      <td>...</td>\n",
       "      <td>...</td>\n",
       "      <td>...</td>\n",
       "      <td>...</td>\n",
       "    </tr>\n",
       "    <tr>\n",
       "      <th>1197</th>\n",
       "      <td>ID_ZTTHC5X</td>\n",
       "      <td>2010-12-05</td>\n",
       "      <td>2011-12-04</td>\n",
       "      <td>Male</td>\n",
       "      <td>67</td>\n",
       "      <td>2010-12-05</td>\n",
       "      <td>2</td>\n",
       "      <td>JEEP</td>\n",
       "      <td>Black</td>\n",
       "      <td>TOYOTA</td>\n",
       "      <td>Victoria Island</td>\n",
       "      <td>Lagos</td>\n",
       "      <td>Car Classic</td>\n",
       "    </tr>\n",
       "    <tr>\n",
       "      <th>1198</th>\n",
       "      <td>ID_ZUJAFUP</td>\n",
       "      <td>2010-01-14</td>\n",
       "      <td>2011-01-13</td>\n",
       "      <td>Male</td>\n",
       "      <td>43</td>\n",
       "      <td>2010-01-14</td>\n",
       "      <td>1</td>\n",
       "      <td>Saloon</td>\n",
       "      <td>Silver</td>\n",
       "      <td>Hyundai</td>\n",
       "      <td>Surulere</td>\n",
       "      <td>Lagos</td>\n",
       "      <td>Car Classic</td>\n",
       "    </tr>\n",
       "    <tr>\n",
       "      <th>1199</th>\n",
       "      <td>ID_ZWHCTUM</td>\n",
       "      <td>2010-07-26</td>\n",
       "      <td>2011-07-25</td>\n",
       "      <td>Male</td>\n",
       "      <td>30</td>\n",
       "      <td>2010-07-26</td>\n",
       "      <td>1</td>\n",
       "      <td>Truck</td>\n",
       "      <td>White</td>\n",
       "      <td>Iveco</td>\n",
       "      <td>Victoria Island</td>\n",
       "      <td>Lagos</td>\n",
       "      <td>CVTP</td>\n",
       "    </tr>\n",
       "    <tr>\n",
       "      <th>1200</th>\n",
       "      <td>ID_ZWQRL8L</td>\n",
       "      <td>2010-02-16</td>\n",
       "      <td>2011-02-15</td>\n",
       "      <td>Male</td>\n",
       "      <td>44</td>\n",
       "      <td>2010-02-16</td>\n",
       "      <td>2</td>\n",
       "      <td>Saloon</td>\n",
       "      <td>NaN</td>\n",
       "      <td>Nissan</td>\n",
       "      <td>Aba North</td>\n",
       "      <td>Aba-North</td>\n",
       "      <td>Car Classic</td>\n",
       "    </tr>\n",
       "    <tr>\n",
       "      <th>1201</th>\n",
       "      <td>ID_ZWZ92GU</td>\n",
       "      <td>2010-03-18</td>\n",
       "      <td>2011-03-17</td>\n",
       "      <td>Male</td>\n",
       "      <td>28</td>\n",
       "      <td>2010-03-18</td>\n",
       "      <td>1</td>\n",
       "      <td>Saloon</td>\n",
       "      <td>Silver</td>\n",
       "      <td>TOYOTA</td>\n",
       "      <td>NaN</td>\n",
       "      <td>NaN</td>\n",
       "      <td>Car Classic</td>\n",
       "    </tr>\n",
       "  </tbody>\n",
       "</table>\n",
       "<p>1202 rows × 13 columns</p>\n",
       "</div>"
      ],
      "text/plain": [
       "              ID Policy Start Date Policy End Date  Gender  Age  \\\n",
       "0     ID_01QM0NU        2010-10-23      2011-10-22  Female   46   \n",
       "1     ID_024NJLZ        2010-10-14      2011-10-13    Male   32   \n",
       "2     ID_02NOVWQ        2010-08-29      2011-08-28  Female   45   \n",
       "3     ID_02VSP68        2010-06-13      2011-06-12  Female   58   \n",
       "4     ID_02YB37K        2010-07-01      2011-06-30     NaN  120   \n",
       "...          ...               ...             ...     ...  ...   \n",
       "1197  ID_ZTTHC5X        2010-12-05      2011-12-04    Male   67   \n",
       "1198  ID_ZUJAFUP        2010-01-14      2011-01-13    Male   43   \n",
       "1199  ID_ZWHCTUM        2010-07-26      2011-07-25    Male   30   \n",
       "1200  ID_ZWQRL8L        2010-02-16      2011-02-15    Male   44   \n",
       "1201  ID_ZWZ92GU        2010-03-18      2011-03-17    Male   28   \n",
       "\n",
       "     First Transaction Date  No_Pol Car_Category Subject_Car_Colour  \\\n",
       "0                2010-10-23       1          NaN                NaN   \n",
       "1                2010-10-14       1          NaN                NaN   \n",
       "2                2010-08-29       2       Saloon              Black   \n",
       "3                2010-06-13       1       Saloon                NaN   \n",
       "4                2010-07-01       1       Saloon                Red   \n",
       "...                     ...     ...          ...                ...   \n",
       "1197             2010-12-05       2         JEEP              Black   \n",
       "1198             2010-01-14       1       Saloon             Silver   \n",
       "1199             2010-07-26       1        Truck              White   \n",
       "1200             2010-02-16       2       Saloon                NaN   \n",
       "1201             2010-03-18       1       Saloon             Silver   \n",
       "\n",
       "     Subject_Car_Make         LGA_Name            State  ProductName  \n",
       "0                Ford  Abuja Municipal  Abuja-Municipal  Car Classic  \n",
       "1                 NaN           Kosofe            Benue  Car Classic  \n",
       "2               Honda          Wuse 11            Abuja  Car Classic  \n",
       "3              TOYOTA              NaN              NaN      CarSafe  \n",
       "4             Hyundai  Victoria Island            Lagos  Car Classic  \n",
       "...               ...              ...              ...          ...  \n",
       "1197           TOYOTA  Victoria Island            Lagos  Car Classic  \n",
       "1198          Hyundai         Surulere            Lagos  Car Classic  \n",
       "1199            Iveco  Victoria Island            Lagos         CVTP  \n",
       "1200           Nissan        Aba North        Aba-North  Car Classic  \n",
       "1201           TOYOTA              NaN              NaN  Car Classic  \n",
       "\n",
       "[1202 rows x 13 columns]"
      ]
     },
     "metadata": {},
     "output_type": "display_data"
    },
    {
     "data": {
      "text/html": [
       "<div>\n",
       "<style scoped>\n",
       "    .dataframe tbody tr th:only-of-type {\n",
       "        vertical-align: middle;\n",
       "    }\n",
       "\n",
       "    .dataframe tbody tr th {\n",
       "        vertical-align: top;\n",
       "    }\n",
       "\n",
       "    .dataframe thead th {\n",
       "        text-align: right;\n",
       "    }\n",
       "</style>\n",
       "<table border=\"1\" class=\"dataframe\">\n",
       "  <thead>\n",
       "    <tr style=\"text-align: right;\">\n",
       "      <th></th>\n",
       "      <th>LGA</th>\n",
       "      <th>State</th>\n",
       "    </tr>\n",
       "  </thead>\n",
       "  <tbody>\n",
       "    <tr>\n",
       "      <th>0</th>\n",
       "      <td>Abadam</td>\n",
       "      <td>Borno State</td>\n",
       "    </tr>\n",
       "    <tr>\n",
       "      <th>1</th>\n",
       "      <td>Abaji</td>\n",
       "      <td>Federal Capital Territory</td>\n",
       "    </tr>\n",
       "    <tr>\n",
       "      <th>2</th>\n",
       "      <td>Abak</td>\n",
       "      <td>Akwa Ibom State</td>\n",
       "    </tr>\n",
       "    <tr>\n",
       "      <th>3</th>\n",
       "      <td>Abakaliki</td>\n",
       "      <td>Ebonyi State</td>\n",
       "    </tr>\n",
       "    <tr>\n",
       "      <th>4</th>\n",
       "      <td>Aba-North</td>\n",
       "      <td>Abia State</td>\n",
       "    </tr>\n",
       "    <tr>\n",
       "      <th>...</th>\n",
       "      <td>...</td>\n",
       "      <td>...</td>\n",
       "    </tr>\n",
       "    <tr>\n",
       "      <th>870</th>\n",
       "      <td>Warri</td>\n",
       "      <td>Warri-South-West</td>\n",
       "    </tr>\n",
       "    <tr>\n",
       "      <th>871</th>\n",
       "      <td>Warri-Central</td>\n",
       "      <td>Warri-South</td>\n",
       "    </tr>\n",
       "    <tr>\n",
       "      <th>872</th>\n",
       "      <td>Wuse-11</td>\n",
       "      <td>Abuja-Municipal-Area-Council</td>\n",
       "    </tr>\n",
       "    <tr>\n",
       "      <th>873</th>\n",
       "      <td>Yaba</td>\n",
       "      <td>Lagos-Mainland</td>\n",
       "    </tr>\n",
       "    <tr>\n",
       "      <th>874</th>\n",
       "      <td>NaN</td>\n",
       "      <td>Unknown</td>\n",
       "    </tr>\n",
       "  </tbody>\n",
       "</table>\n",
       "<p>875 rows × 2 columns</p>\n",
       "</div>"
      ],
      "text/plain": [
       "               LGA                         State\n",
       "0           Abadam                   Borno State\n",
       "1            Abaji     Federal Capital Territory\n",
       "2             Abak               Akwa Ibom State\n",
       "3        Abakaliki                  Ebonyi State\n",
       "4        Aba-North                    Abia State\n",
       "..             ...                           ...\n",
       "870          Warri              Warri-South-West\n",
       "871  Warri-Central                   Warri-South\n",
       "872        Wuse-11  Abuja-Municipal-Area-Council\n",
       "873           Yaba                Lagos-Mainland\n",
       "874            NaN                       Unknown\n",
       "\n",
       "[875 rows x 2 columns]"
      ]
     },
     "metadata": {},
     "output_type": "display_data"
    }
   ],
   "source": [
    "#file 1\n",
    "train_df = pd.read_csv(\"train.csv\")\n",
    "\n",
    "#file 2 - containin the names of states and their local govt areas\n",
    "names0fStates_df= pd.read_csv(\"NigerianStateNames.csv\")\n",
    "\n",
    "#file 3\n",
    "test_df = pd.read_csv(\"Test.csv\")\n",
    "\n",
    "display(train_df,test_df,names0fStates_df)\n"
   ]
  },
  {
   "cell_type": "markdown",
   "metadata": {},
   "source": [
    "Concatenating file 1 and file 3"
   ]
  },
  {
   "cell_type": "code",
   "execution_count": 122,
   "metadata": {},
   "outputs": [
    {
     "data": {
      "text/html": [
       "<div>\n",
       "<style scoped>\n",
       "    .dataframe tbody tr th:only-of-type {\n",
       "        vertical-align: middle;\n",
       "    }\n",
       "\n",
       "    .dataframe tbody tr th {\n",
       "        vertical-align: top;\n",
       "    }\n",
       "\n",
       "    .dataframe thead th {\n",
       "        text-align: right;\n",
       "    }\n",
       "</style>\n",
       "<table border=\"1\" class=\"dataframe\">\n",
       "  <thead>\n",
       "    <tr style=\"text-align: right;\">\n",
       "      <th></th>\n",
       "      <th>ID</th>\n",
       "      <th>Policy Start Date</th>\n",
       "      <th>Policy End Date</th>\n",
       "      <th>Gender</th>\n",
       "      <th>Age</th>\n",
       "      <th>First Transaction Date</th>\n",
       "      <th>No_Pol</th>\n",
       "      <th>Car_Category</th>\n",
       "      <th>Subject_Car_Colour</th>\n",
       "      <th>Subject_Car_Make</th>\n",
       "      <th>LGA_Name</th>\n",
       "      <th>State</th>\n",
       "      <th>ProductName</th>\n",
       "      <th>target</th>\n",
       "    </tr>\n",
       "  </thead>\n",
       "  <tbody>\n",
       "    <tr>\n",
       "      <th>0</th>\n",
       "      <td>ID_0040R73</td>\n",
       "      <td>2010-05-14</td>\n",
       "      <td>2011-05-13</td>\n",
       "      <td>Male</td>\n",
       "      <td>30</td>\n",
       "      <td>2010-05-14</td>\n",
       "      <td>1</td>\n",
       "      <td>Saloon</td>\n",
       "      <td>Black</td>\n",
       "      <td>TOYOTA</td>\n",
       "      <td>NaN</td>\n",
       "      <td>NaN</td>\n",
       "      <td>Car Classic</td>\n",
       "      <td>0.0</td>\n",
       "    </tr>\n",
       "    <tr>\n",
       "      <th>1</th>\n",
       "      <td>ID_0046BNK</td>\n",
       "      <td>2010-11-29</td>\n",
       "      <td>2011-11-28</td>\n",
       "      <td>Female</td>\n",
       "      <td>79</td>\n",
       "      <td>2010-11-29</td>\n",
       "      <td>1</td>\n",
       "      <td>JEEP</td>\n",
       "      <td>Grey</td>\n",
       "      <td>TOYOTA</td>\n",
       "      <td>NaN</td>\n",
       "      <td>NaN</td>\n",
       "      <td>Car Classic</td>\n",
       "      <td>1.0</td>\n",
       "    </tr>\n",
       "    <tr>\n",
       "      <th>2</th>\n",
       "      <td>ID_005QMC3</td>\n",
       "      <td>2010-03-21</td>\n",
       "      <td>2011-03-20</td>\n",
       "      <td>Male</td>\n",
       "      <td>43</td>\n",
       "      <td>2010-03-21</td>\n",
       "      <td>1</td>\n",
       "      <td>Saloon</td>\n",
       "      <td>Red</td>\n",
       "      <td>TOYOTA</td>\n",
       "      <td>NaN</td>\n",
       "      <td>NaN</td>\n",
       "      <td>Car Classic</td>\n",
       "      <td>0.0</td>\n",
       "    </tr>\n",
       "    <tr>\n",
       "      <th>3</th>\n",
       "      <td>ID_0079OHW</td>\n",
       "      <td>2010-08-21</td>\n",
       "      <td>2011-08-20</td>\n",
       "      <td>Male</td>\n",
       "      <td>2</td>\n",
       "      <td>2010-08-21</td>\n",
       "      <td>1</td>\n",
       "      <td>NaN</td>\n",
       "      <td>NaN</td>\n",
       "      <td>NaN</td>\n",
       "      <td>NaN</td>\n",
       "      <td>NaN</td>\n",
       "      <td>CarSafe</td>\n",
       "      <td>0.0</td>\n",
       "    </tr>\n",
       "    <tr>\n",
       "      <th>4</th>\n",
       "      <td>ID_00BRP63</td>\n",
       "      <td>2010-08-29</td>\n",
       "      <td>2010-12-31</td>\n",
       "      <td>Entity</td>\n",
       "      <td>20</td>\n",
       "      <td>2010-08-29</td>\n",
       "      <td>3</td>\n",
       "      <td>NaN</td>\n",
       "      <td>NaN</td>\n",
       "      <td>NaN</td>\n",
       "      <td>Lagos</td>\n",
       "      <td>Lagos</td>\n",
       "      <td>Muuve</td>\n",
       "      <td>1.0</td>\n",
       "    </tr>\n",
       "    <tr>\n",
       "      <th>...</th>\n",
       "      <td>...</td>\n",
       "      <td>...</td>\n",
       "      <td>...</td>\n",
       "      <td>...</td>\n",
       "      <td>...</td>\n",
       "      <td>...</td>\n",
       "      <td>...</td>\n",
       "      <td>...</td>\n",
       "      <td>...</td>\n",
       "      <td>...</td>\n",
       "      <td>...</td>\n",
       "      <td>...</td>\n",
       "      <td>...</td>\n",
       "      <td>...</td>\n",
       "    </tr>\n",
       "    <tr>\n",
       "      <th>13276</th>\n",
       "      <td>ID_ZTTHC5X</td>\n",
       "      <td>2010-12-05</td>\n",
       "      <td>2011-12-04</td>\n",
       "      <td>Male</td>\n",
       "      <td>67</td>\n",
       "      <td>2010-12-05</td>\n",
       "      <td>2</td>\n",
       "      <td>JEEP</td>\n",
       "      <td>Black</td>\n",
       "      <td>TOYOTA</td>\n",
       "      <td>Victoria Island</td>\n",
       "      <td>Lagos</td>\n",
       "      <td>Car Classic</td>\n",
       "      <td>NaN</td>\n",
       "    </tr>\n",
       "    <tr>\n",
       "      <th>13277</th>\n",
       "      <td>ID_ZUJAFUP</td>\n",
       "      <td>2010-01-14</td>\n",
       "      <td>2011-01-13</td>\n",
       "      <td>Male</td>\n",
       "      <td>43</td>\n",
       "      <td>2010-01-14</td>\n",
       "      <td>1</td>\n",
       "      <td>Saloon</td>\n",
       "      <td>Silver</td>\n",
       "      <td>Hyundai</td>\n",
       "      <td>Surulere</td>\n",
       "      <td>Lagos</td>\n",
       "      <td>Car Classic</td>\n",
       "      <td>NaN</td>\n",
       "    </tr>\n",
       "    <tr>\n",
       "      <th>13278</th>\n",
       "      <td>ID_ZWHCTUM</td>\n",
       "      <td>2010-07-26</td>\n",
       "      <td>2011-07-25</td>\n",
       "      <td>Male</td>\n",
       "      <td>30</td>\n",
       "      <td>2010-07-26</td>\n",
       "      <td>1</td>\n",
       "      <td>Truck</td>\n",
       "      <td>White</td>\n",
       "      <td>Iveco</td>\n",
       "      <td>Victoria Island</td>\n",
       "      <td>Lagos</td>\n",
       "      <td>CVTP</td>\n",
       "      <td>NaN</td>\n",
       "    </tr>\n",
       "    <tr>\n",
       "      <th>13279</th>\n",
       "      <td>ID_ZWQRL8L</td>\n",
       "      <td>2010-02-16</td>\n",
       "      <td>2011-02-15</td>\n",
       "      <td>Male</td>\n",
       "      <td>44</td>\n",
       "      <td>2010-02-16</td>\n",
       "      <td>2</td>\n",
       "      <td>Saloon</td>\n",
       "      <td>NaN</td>\n",
       "      <td>Nissan</td>\n",
       "      <td>Aba North</td>\n",
       "      <td>Aba-North</td>\n",
       "      <td>Car Classic</td>\n",
       "      <td>NaN</td>\n",
       "    </tr>\n",
       "    <tr>\n",
       "      <th>13280</th>\n",
       "      <td>ID_ZWZ92GU</td>\n",
       "      <td>2010-03-18</td>\n",
       "      <td>2011-03-17</td>\n",
       "      <td>Male</td>\n",
       "      <td>28</td>\n",
       "      <td>2010-03-18</td>\n",
       "      <td>1</td>\n",
       "      <td>Saloon</td>\n",
       "      <td>Silver</td>\n",
       "      <td>TOYOTA</td>\n",
       "      <td>NaN</td>\n",
       "      <td>NaN</td>\n",
       "      <td>Car Classic</td>\n",
       "      <td>NaN</td>\n",
       "    </tr>\n",
       "  </tbody>\n",
       "</table>\n",
       "<p>13281 rows × 14 columns</p>\n",
       "</div>"
      ],
      "text/plain": [
       "               ID Policy Start Date Policy End Date  Gender  Age  \\\n",
       "0      ID_0040R73        2010-05-14      2011-05-13    Male   30   \n",
       "1      ID_0046BNK        2010-11-29      2011-11-28  Female   79   \n",
       "2      ID_005QMC3        2010-03-21      2011-03-20    Male   43   \n",
       "3      ID_0079OHW        2010-08-21      2011-08-20    Male    2   \n",
       "4      ID_00BRP63        2010-08-29      2010-12-31  Entity   20   \n",
       "...           ...               ...             ...     ...  ...   \n",
       "13276  ID_ZTTHC5X        2010-12-05      2011-12-04    Male   67   \n",
       "13277  ID_ZUJAFUP        2010-01-14      2011-01-13    Male   43   \n",
       "13278  ID_ZWHCTUM        2010-07-26      2011-07-25    Male   30   \n",
       "13279  ID_ZWQRL8L        2010-02-16      2011-02-15    Male   44   \n",
       "13280  ID_ZWZ92GU        2010-03-18      2011-03-17    Male   28   \n",
       "\n",
       "      First Transaction Date  No_Pol Car_Category Subject_Car_Colour  \\\n",
       "0                 2010-05-14       1       Saloon              Black   \n",
       "1                 2010-11-29       1         JEEP               Grey   \n",
       "2                 2010-03-21       1       Saloon                Red   \n",
       "3                 2010-08-21       1          NaN                NaN   \n",
       "4                 2010-08-29       3          NaN                NaN   \n",
       "...                      ...     ...          ...                ...   \n",
       "13276             2010-12-05       2         JEEP              Black   \n",
       "13277             2010-01-14       1       Saloon             Silver   \n",
       "13278             2010-07-26       1        Truck              White   \n",
       "13279             2010-02-16       2       Saloon                NaN   \n",
       "13280             2010-03-18       1       Saloon             Silver   \n",
       "\n",
       "      Subject_Car_Make         LGA_Name      State  ProductName  target  \n",
       "0               TOYOTA              NaN        NaN  Car Classic     0.0  \n",
       "1               TOYOTA              NaN        NaN  Car Classic     1.0  \n",
       "2               TOYOTA              NaN        NaN  Car Classic     0.0  \n",
       "3                  NaN              NaN        NaN      CarSafe     0.0  \n",
       "4                  NaN            Lagos      Lagos        Muuve     1.0  \n",
       "...                ...              ...        ...          ...     ...  \n",
       "13276           TOYOTA  Victoria Island      Lagos  Car Classic     NaN  \n",
       "13277          Hyundai         Surulere      Lagos  Car Classic     NaN  \n",
       "13278            Iveco  Victoria Island      Lagos         CVTP     NaN  \n",
       "13279           Nissan        Aba North  Aba-North  Car Classic     NaN  \n",
       "13280           TOYOTA              NaN        NaN  Car Classic     NaN  \n",
       "\n",
       "[13281 rows x 14 columns]"
      ]
     },
     "execution_count": 122,
     "metadata": {},
     "output_type": "execute_result"
    }
   ],
   "source": [
    "#combining two or more datasets (tables of information) into a single\n",
    "#dataset. This is done by stacking one dataset on top of the other,\n",
    "#either vertically or horizontally\n",
    "\n",
    "df = pd.concat([train_df, test_df], ignore_index=True)\n",
    "df\n",
    "#the \"ignore_index=True\" is because both datasets don't have equal \n",
    "#number of rows and columns "
   ]
  },
  {
   "cell_type": "code",
   "execution_count": 123,
   "metadata": {},
   "outputs": [
    {
     "data": {
      "text/html": [
       "<div>\n",
       "<style scoped>\n",
       "    .dataframe tbody tr th:only-of-type {\n",
       "        vertical-align: middle;\n",
       "    }\n",
       "\n",
       "    .dataframe tbody tr th {\n",
       "        vertical-align: top;\n",
       "    }\n",
       "\n",
       "    .dataframe thead th {\n",
       "        text-align: right;\n",
       "    }\n",
       "</style>\n",
       "<table border=\"1\" class=\"dataframe\">\n",
       "  <thead>\n",
       "    <tr style=\"text-align: right;\">\n",
       "      <th></th>\n",
       "      <th>count</th>\n",
       "      <th>mean</th>\n",
       "      <th>std</th>\n",
       "      <th>min</th>\n",
       "      <th>25%</th>\n",
       "      <th>50%</th>\n",
       "      <th>75%</th>\n",
       "      <th>max</th>\n",
       "    </tr>\n",
       "  </thead>\n",
       "  <tbody>\n",
       "    <tr>\n",
       "      <th>Age</th>\n",
       "      <td>13281.0</td>\n",
       "      <td>42.375574</td>\n",
       "      <td>93.170951</td>\n",
       "      <td>-6099.0</td>\n",
       "      <td>35.0</td>\n",
       "      <td>41.0</td>\n",
       "      <td>50.0</td>\n",
       "      <td>320.0</td>\n",
       "    </tr>\n",
       "    <tr>\n",
       "      <th>No_Pol</th>\n",
       "      <td>13281.0</td>\n",
       "      <td>1.302763</td>\n",
       "      <td>0.723195</td>\n",
       "      <td>1.0</td>\n",
       "      <td>1.0</td>\n",
       "      <td>1.0</td>\n",
       "      <td>1.0</td>\n",
       "      <td>10.0</td>\n",
       "    </tr>\n",
       "    <tr>\n",
       "      <th>target</th>\n",
       "      <td>12079.0</td>\n",
       "      <td>0.120457</td>\n",
       "      <td>0.325509</td>\n",
       "      <td>0.0</td>\n",
       "      <td>0.0</td>\n",
       "      <td>0.0</td>\n",
       "      <td>0.0</td>\n",
       "      <td>1.0</td>\n",
       "    </tr>\n",
       "  </tbody>\n",
       "</table>\n",
       "</div>"
      ],
      "text/plain": [
       "          count       mean        std     min   25%   50%   75%    max\n",
       "Age     13281.0  42.375574  93.170951 -6099.0  35.0  41.0  50.0  320.0\n",
       "No_Pol  13281.0   1.302763   0.723195     1.0   1.0   1.0   1.0   10.0\n",
       "target  12079.0   0.120457   0.325509     0.0   0.0   0.0   0.0    1.0"
      ]
     },
     "execution_count": 123,
     "metadata": {},
     "output_type": "execute_result"
    }
   ],
   "source": [
    "#Sumarry of statistical properties of our data\n",
    "\n",
    "\"\"\"Note Describe function only works for numerical columns so therefore, it is \n",
    "imperative that you check and correct datatypes before you use the decribe function\"\"\"\n",
    "\n",
    "df.describe().T"
   ]
  },
  {
   "cell_type": "markdown",
   "metadata": {},
   "source": [
    "Inspecting our concatenated dataset for missing values"
   ]
  },
  {
   "cell_type": "code",
   "execution_count": 124,
   "metadata": {},
   "outputs": [
    {
     "name": "stdout",
     "output_type": "stream",
     "text": [
      "<class 'pandas.core.frame.DataFrame'>\n",
      "RangeIndex: 13281 entries, 0 to 13280\n",
      "Data columns (total 14 columns):\n",
      " #   Column                  Non-Null Count  Dtype  \n",
      "---  ------                  --------------  -----  \n",
      " 0   ID                      13281 non-null  object \n",
      " 1   Policy Start Date       13281 non-null  object \n",
      " 2   Policy End Date         13281 non-null  object \n",
      " 3   Gender                  12881 non-null  object \n",
      " 4   Age                     13281 non-null  int64  \n",
      " 5   First Transaction Date  13281 non-null  object \n",
      " 6   No_Pol                  13281 non-null  int64  \n",
      " 7   Car_Category            9171 non-null   object \n",
      " 8   Subject_Car_Colour      5622 non-null   object \n",
      " 9   Subject_Car_Make        10557 non-null  object \n",
      " 10  LGA_Name                6149 non-null   object \n",
      " 11  State                   6137 non-null   object \n",
      " 12  ProductName             13281 non-null  object \n",
      " 13  target                  12079 non-null  float64\n",
      "dtypes: float64(1), int64(2), object(11)\n",
      "memory usage: 1.4+ MB\n"
     ]
    }
   ],
   "source": [
    "#Inspecting d structure & properties of our data\n",
    "\n",
    "df.info()"
   ]
  },
  {
   "cell_type": "markdown",
   "metadata": {},
   "source": [
    "Result of our first inspection"
   ]
  },
  {
   "cell_type": "code",
   "execution_count": 125,
   "metadata": {},
   "outputs": [],
   "source": [
    "#1. we have 14 features(columns) and 13281 samples(rows)\n",
    "#2. There are no missing data in the features\n",
    "#3. there are several missing data in the samples\n",
    "#4. three(3) of the features are numeric(1 is a\" float\" and 2 are \"int\")\n",
    "#and 11 are categorical, i.e they are non-numeric"
   ]
  },
  {
   "cell_type": "code",
   "execution_count": 126,
   "metadata": {},
   "outputs": [
    {
     "data": {
      "text/plain": [
       "ID                           0\n",
       "Policy Start Date            0\n",
       "Policy End Date              0\n",
       "Gender                     400\n",
       "Age                          0\n",
       "First Transaction Date       0\n",
       "No_Pol                       0\n",
       "Car_Category              4110\n",
       "Subject_Car_Colour        7659\n",
       "Subject_Car_Make          2724\n",
       "LGA_Name                  7132\n",
       "State                     7144\n",
       "ProductName                  0\n",
       "target                    1202\n",
       "dtype: int64"
      ]
     },
     "execution_count": 126,
     "metadata": {},
     "output_type": "execute_result"
    }
   ],
   "source": [
    "#inspecting to know many values are missing in each row\n",
    "\n",
    "df.isnull().sum()"
   ]
  },
  {
   "cell_type": "code",
   "execution_count": 127,
   "metadata": {},
   "outputs": [
    {
     "data": {
      "text/plain": [
       "['Policy Start Date', 'Policy End Date', 'First Transaction Date']"
      ]
     },
     "metadata": {},
     "output_type": "display_data"
    },
    {
     "data": {
      "text/plain": [
       "['Age', 'No_Pol']"
      ]
     },
     "metadata": {},
     "output_type": "display_data"
    },
    {
     "data": {
      "text/plain": [
       "['Gender',\n",
       " 'Car_Category',\n",
       " 'Subject_Car_Colour',\n",
       " 'Subject_Car_Make',\n",
       " 'LGA_Name',\n",
       " 'State',\n",
       " 'ProductName']"
      ]
     },
     "metadata": {},
     "output_type": "display_data"
    }
   ],
   "source": [
    "\"\"\"Since we have observed our columns, we can now group them into three set: \n",
    "Numerical cols, categorical cols and date cols\n",
    "\n",
    "why is this important: Because it makes our work faster and easier, if a change is to be done on numerical columns or\n",
    "subsetting my data, it much easier working in them once\"\"\"\n",
    "# using list comprehension \n",
    "date_cols = [col for col in df.columns if 'Date' in col]\n",
    "\n",
    "num_cols = ['Age','No_Pol']\n",
    "\n",
    "cat_cols = [col for col in df.columns if col not in date_cols + num_cols + ['ID','target']]\n",
    "\n",
    "display( date_cols,num_cols, cat_cols)"
   ]
  },
  {
   "cell_type": "code",
   "execution_count": 128,
   "metadata": {},
   "outputs": [
    {
     "data": {
      "text/plain": [
       "ID                         object\n",
       "Policy Start Date          object\n",
       "Policy End Date            object\n",
       "Gender                     object\n",
       "Age                         int64\n",
       "First Transaction Date     object\n",
       "No_Pol                      int64\n",
       "Car_Category               object\n",
       "Subject_Car_Colour         object\n",
       "Subject_Car_Make           object\n",
       "LGA_Name                   object\n",
       "State                      object\n",
       "ProductName                object\n",
       "target                    float64\n",
       "dtype: object"
      ]
     },
     "execution_count": 128,
     "metadata": {},
     "output_type": "execute_result"
    }
   ],
   "source": [
    "# let's deal with data types\n",
    "\n",
    "df.dtypes"
   ]
  },
  {
   "cell_type": "code",
   "execution_count": 129,
   "metadata": {
    "scrolled": true
   },
   "outputs": [
    {
     "data": {
      "text/plain": [
       "Policy Start Date         datetime64[ns]\n",
       "Policy End Date           datetime64[ns]\n",
       "First Transaction Date    datetime64[ns]\n",
       "dtype: object"
      ]
     },
     "execution_count": 129,
     "metadata": {},
     "output_type": "execute_result"
    }
   ],
   "source": [
    "# changing date columns to date dtypes\n",
    "\n",
    "for col in date_cols:\n",
    "    df[col]= pd.to_datetime(df[col])\n",
    "    \n",
    "df[date_cols].dtypes"
   ]
  },
  {
   "cell_type": "code",
   "execution_count": 130,
   "metadata": {},
   "outputs": [
    {
     "data": {
      "text/plain": [
       "array(['Male', 'Female', 'Entity', 'Joint Gender', nan, 'NO GENDER',\n",
       "       'NOT STATED', 'SEX'], dtype=object)"
      ]
     },
     "execution_count": 130,
     "metadata": {},
     "output_type": "execute_result"
    }
   ],
   "source": [
    "#inspecting the categorical dataset for mislabelling\n",
    "#1. Gender\n",
    "df.Gender.unique()"
   ]
  },
  {
   "cell_type": "code",
   "execution_count": 131,
   "metadata": {},
   "outputs": [
    {
     "data": {
      "text/plain": [
       "<AxesSubplot:xlabel='Gender', ylabel='count'>"
      ]
     },
     "execution_count": 131,
     "metadata": {},
     "output_type": "execute_result"
    },
    {
     "data": {
      "image/png": "[encoded data removed]",
      "text/plain": [
       "<Figure size 432x288 with 1 Axes>"
      ]
     },
     "metadata": {
      "needs_background": "light"
     },
     "output_type": "display_data"
    }
   ],
   "source": [
    "sns.countplot(df['Gender'])"
   ]
  },
  {
   "cell_type": "code",
   "execution_count": 132,
   "metadata": {},
   "outputs": [],
   "source": [
    "#replacing the mislabelld gender categories\n",
    "\n",
    "df[\"Gender\"]= df[\"Gender\"].replace({\"Entity\":\"Others\",\"Joint Gender\":\"Others\",\n",
    "                                                              \"NO GENDER\":\"Others\",\"NOT STATED\":\"Others\",\"SEX\":\"Others\"},)"
   ]
  },
  {
   "cell_type": "code",
   "execution_count": 133,
   "metadata": {},
   "outputs": [
    {
     "data": {
      "text/plain": [
       "0"
      ]
     },
     "execution_count": 133,
     "metadata": {},
     "output_type": "execute_result"
    }
   ],
   "source": [
    "#to fill the missing value\n",
    "df['Gender'] = df['Gender'].fillna(df['Gender'].mode()[0])\n",
    "df['Gender'].isna().sum()"
   ]
  },
  {
   "cell_type": "code",
   "execution_count": 134,
   "metadata": {},
   "outputs": [
    {
     "data": {
      "text/plain": [
       "<AxesSubplot:xlabel='Gender', ylabel='count'>"
      ]
     },
     "execution_count": 134,
     "metadata": {},
     "output_type": "execute_result"
    },
    {
     "data": {
      "image/png": "[encoded data removed]",
      "text/plain": [
       "<Figure size 432x288 with 1 Axes>"
      ]
     },
     "metadata": {
      "needs_background": "light"
     },
     "output_type": "display_data"
    }
   ],
   "source": [
    "sns.countplot(df['Gender'])"
   ]
  },
  {
   "cell_type": "code",
   "execution_count": 135,
   "metadata": {},
   "outputs": [
    {
     "data": {
      "text/plain": [
       "array(['Male', 'Female', 'Others'], dtype=object)"
      ]
     },
     "execution_count": 135,
     "metadata": {},
     "output_type": "execute_result"
    }
   ],
   "source": [
    "#to check for the corrected categories\n",
    "\n",
    "df.Gender.unique()"
   ]
  },
  {
   "cell_type": "code",
   "execution_count": 136,
   "metadata": {},
   "outputs": [
    {
     "data": {
      "text/plain": [
       "array(['Saloon', 'JEEP', nan, 'Motorcycle', 'Truck', 'Bus', 'Mini Bus',\n",
       "       'Pick Up', 'Mini Van', 'Van', 'Pick Up > 3 Tons', 'CAMRY CAR HIRE',\n",
       "       'Wagon', 'Shape Of Vehicle Chasis', 'Sedan', 'Station 4 Wheel',\n",
       "       'Tipper Truck'], dtype=object)"
      ]
     },
     "execution_count": 136,
     "metadata": {},
     "output_type": "execute_result"
    }
   ],
   "source": [
    "#2. Car_Category\n",
    "\n",
    "df.Car_Category.unique()"
   ]
  },
  {
   "cell_type": "code",
   "execution_count": 137,
   "metadata": {},
   "outputs": [],
   "source": [
    "#replacing the mislabelld categories\n",
    "df[\"Car_Category\"] = df[\"Car_Category\"].replace({'JEEP':'Jeep','Pick Up > 3 Tons':'Pick Up','Station 4 Wheel':'Truck','Tipper Truck':'Truck',\n",
    "                                                                           \"Mini Van\":\"Van\", \"CAMRY CAR HIRE\":'Saloon',\"Mini Bus\":\"Bus\",\n",
    "                                                                           \"Shape Of Vehicle Chasis\":np.nan})"
   ]
  },
  {
   "cell_type": "code",
   "execution_count": 138,
   "metadata": {},
   "outputs": [
    {
     "data": {
      "text/plain": [
       "array(['Saloon', 'Jeep', nan, 'Motorcycle', 'Truck', 'Bus', 'Pick Up',\n",
       "       'Van', 'Wagon', 'Sedan'], dtype=object)"
      ]
     },
     "execution_count": 138,
     "metadata": {},
     "output_type": "execute_result"
    }
   ],
   "source": [
    "#to check for the corrected categories\n",
    "df.Car_Category.unique()"
   ]
  },
  {
   "cell_type": "code",
   "execution_count": 139,
   "metadata": {},
   "outputs": [
    {
     "data": {
      "text/plain": [
       "Saloon        6634\n",
       "Jeep          2223\n",
       "Truck          115\n",
       "Bus            101\n",
       "Pick Up         34\n",
       "Motorcycle      18\n",
       "Van             16\n",
       "Sedan           14\n",
       "Wagon           10\n",
       "Name: Car_Category, dtype: int64"
      ]
     },
     "execution_count": 139,
     "metadata": {},
     "output_type": "execute_result"
    }
   ],
   "source": [
    "df['Car_Category'].value_counts()"
   ]
  },
  {
   "cell_type": "code",
   "execution_count": 140,
   "metadata": {},
   "outputs": [
    {
     "data": {
      "text/plain": [
       "4116"
      ]
     },
     "execution_count": 140,
     "metadata": {},
     "output_type": "execute_result"
    }
   ],
   "source": [
    "df['Car_Category'].isna().sum()"
   ]
  },
  {
   "cell_type": "code",
   "execution_count": 141,
   "metadata": {},
   "outputs": [
    {
     "data": {
      "text/plain": [
       "array(['Black', 'Grey', 'Red', nan, 'Blue', 'Silver', 'Green', 'White',\n",
       "       'Brown', 'Gold', 'Orange', 'Purple', 'Yellow'], dtype=object)"
      ]
     },
     "execution_count": 141,
     "metadata": {},
     "output_type": "execute_result"
    }
   ],
   "source": [
    "#  Cleaning Subject_Car_Colour Column.\n",
    "\n",
    "\n",
    "car_color_map = {'Black & Orange':'Black', 'Black & White':'Black','As Attached': 'Black', 'Ash':'Grey',\n",
    "                'Gray & Gray':'Grey','Gray & Silver':'Grey', 'Dark Grey':'Grey', 'Dark Gray':'Grey', 'Light Gray':'Grey',\n",
    "                'Wine':'Red','Red & Blue':'Red','Red & Yellow':'Red','Red & White':'Red','Red & Black':'Red','D. Red':'Red',\n",
    "                'Dark Red':'Red','Burgundy':'Red','Red Maroon':'Red','Blue & Red':'Blue','Light Blue':'Blue','Blue&White&Red':'Blue',\n",
    "                'Dark Blue':'Blue','Blue Sky':'Blue','B.Silver':'Silver','Light Green':'Green','Dark Green':'Green',\n",
    "                'White & Red':'White','White & Blue':'White','White & Yellow':'White','D. Gold':'Gold','Champagne':'Gold',\n",
    "                'Cream':'Gold','Beige Mitalic':'Gold','Yellow & White':'Yellow'} \n",
    "\n",
    "df['Subject_Car_Colour'] = df['Subject_Car_Colour'].replace(car_color_map)\n",
    "\n",
    "df['Subject_Car_Colour'].unique()\n"
   ]
  },
  {
   "cell_type": "code",
   "execution_count": 142,
   "metadata": {},
   "outputs": [
    {
     "data": {
      "text/plain": [
       "<AxesSubplot:xlabel='Subject_Car_Colour', ylabel='count'>"
      ]
     },
     "execution_count": 142,
     "metadata": {},
     "output_type": "execute_result"
    },
    {
     "data": {
      "image/png": "[encoded data removed]",
      "text/plain": [
       "<Figure size 432x288 with 1 Axes>"
      ]
     },
     "metadata": {
      "needs_background": "light"
     },
     "output_type": "display_data"
    }
   ],
   "source": [
    "sns.countplot(df['Subject_Car_Colour'])"
   ]
  },
  {
   "cell_type": "code",
   "execution_count": 143,
   "metadata": {},
   "outputs": [
    {
     "data": {
      "text/plain": [
       "Black     2616\n",
       "Grey       722\n",
       "Silver     609\n",
       "Blue       406\n",
       "Red        389\n",
       "White      329\n",
       "Green      263\n",
       "Gold       205\n",
       "Brown       65\n",
       "Yellow       9\n",
       "Orange       5\n",
       "Purple       4\n",
       "Name: Subject_Car_Colour, dtype: int64"
      ]
     },
     "execution_count": 143,
     "metadata": {},
     "output_type": "execute_result"
    }
   ],
   "source": [
    "df['Subject_Car_Colour'].value_counts()"
   ]
  },
  {
   "cell_type": "code",
   "execution_count": 115,
   "metadata": {},
   "outputs": [
    {
     "data": {
      "text/plain": [
       "array(['TOYOTA', nan, 'REXTON', 'Lexus', 'Hyundai', 'Iveco', 'DAF',\n",
       "       'Honda', 'Mercedes', 'Jincheng', 'ACURA', 'Ford', 'Volkswagen',\n",
       "       'Nissan', 'Pontiac', 'Range Rover', 'Kia', 'Mitsubishi', 'Scania',\n",
       "       'BMW', 'Infiniti', 'Renault', 'Volvo', 'Hummer', 'Mack',\n",
       "       'Grand Cherokee', 'Porsche', 'Peugeot', 'Land Rover', 'Chevrolet',\n",
       "       'Mazda', 'Man', 'Jeep', 'Audi', 'Suzuki', 'MINI COOPER', 'KA',\n",
       "       'Innoson', 'Isuzu', 'Skoda', 'Jaguar', 'Chrysler', 'Dodge', 'GMC',\n",
       "       'Subaru', 'GAC', 'Fiat', 'Opel', 'Astra', 'Motorcycle', 'ZOYTE',\n",
       "       'Seat', 'FOTON', 'Howo', 'Lincoln', 'Rolls Royce', 'CHANGAN',\n",
       "       'LIBERTY', 'ABG', 'Yamaha', 'Black', 'Tata', 'Ashok Leyland',\n",
       "       'Geely', 'Cadillac', 'Jeep Wrangler', 'Raston', 'MG', 'BRILLIANCE',\n",
       "       'Buick', 'COMMANDER', 'Bajaj', 'Datsun'], dtype=object)"
      ]
     },
     "execution_count": 115,
     "metadata": {},
     "output_type": "execute_result"
    }
   ],
   "source": [
    "car_make_map = {'Innson':'Innoson', 'Rols Royce':'Rolls Royce','Wrangler Jeep': 'Jeep Wrangler', 'Caddillac':'Cadillac',\n",
    "                'Buik':'Buick','Land Rover.':'Land Rover','As Attached': np.nan,'.': np.nan}\n",
    "\n",
    "df['Subject_Car_Make'] = df['Subject_Car_Make'].replace(car_make_map)\n",
    "df['Subject_Car_Make'].unique()"
   ]
  },
  {
   "cell_type": "code",
   "execution_count": 74,
   "metadata": {},
   "outputs": [
    {
     "data": {
      "text/plain": [
       "array([nan, 'Lagos', 'Ikeja', 'Badagry', 'Eti-Osa', 'Victoria Island',\n",
       "       'Ikoyi', 'Lagos Mainland', 'EFFURUN', 'Abeokuta',\n",
       "       'Abuja Municipal', 'Yaba', 'Aguda', 'Surulere', 'Oshodi-Isolo',\n",
       "       'Alimosho', 'Okpe, Delta State', 'Asaba', 'IbadanCentral', 'Lekki',\n",
       "       'Ibeju/Lekki', 'OBANIKORO', 'Agege', 'ISHERI', 'Kosofe', 'OGUN',\n",
       "       'Apapa', 'Ibadan South West', 'Obia/Akpor', 'Ibadan South East',\n",
       "       'Sapele', 'Kaduna South', 'Ikorodu', 'Amuwo-Odofin', 'Awka',\n",
       "       'GBAGADA', 'Port Harcourt', 'Minna', 'Shomolu', 'Benin',\n",
       "       'Lagos Island', 'Central', 'Ebute-Metta', 'Ketu', 'Uyo', 'Mushin',\n",
       "       'Katagum', 'ENUGU EAST', 'Oredo', 'Abuja', 'Festac', 'Ipaja',\n",
       "       'Zaria ', 'Esan West', 'Oluyole', 'Bwari', 'Obafemi-Owode', 'LGA',\n",
       "       'Orile-Iganmu', 'Egbeda', 'Ido', 'Ifako-Ijaye ', 'Ibadan North',\n",
       "       'Oguta', 'Jos North', 'Ajah', 'Ondo West', 'Kaduna North', 'Warri',\n",
       "       'Aniocha South', 'Owerri', 'Awka South', 'Asokoro District',\n",
       "       'Ile-Oluji', 'Ijebu Ode', 'Port-Harcourt', 'Oshodi', 'EMENE',\n",
       "       'Alagbado', 'Wuse 11', 'Egor', 'Biase', 'Shagamu', 'Nnewi North',\n",
       "       'Aboh-Mbaise', 'IBADAN NORTH EAST', 'Akinyele', 'Oyo',\n",
       "       'Akoko North West', 'OGBA', 'Warri Central', 'Ilupeju', 'Calabar',\n",
       "       'Jos South', 'Onitsha North', 'AKUTE', 'Ifo', 'Ojodu', 'Bekwara',\n",
       "       'Ibadan North West', 'Epe', 'Maryland', 'Osogbo', 'Kuje', 'Idanre',\n",
       "       'Ajeromi-Ifelodun', 'Olorunsogo', 'Udu', 'OGUDU', 'Kano Municipal',\n",
       "       'Ife Central', 'Ilorin West', 'Lagelu Ogbomosho North', 'Katcha',\n",
       "       'Isolo', 'Akwa Ibom', 'Anthony Village', 'Abeokuta South',\n",
       "       'MAGODO', 'Kaduna', 'Owerri-Municipal', 'OJOTA', 'Somolu',\n",
       "       'Nsit Ubium', 'Bonny', 'Udi Agwu', 'Essien Udim', 'Owerri West ',\n",
       "       'Akure', 'IJAIYE', 'Ogbmosho South', 'Marina', 'Orolu',\n",
       "       'Umuahia South', 'Ile-Ife', 'ABULE EGBA', 'Enugu North',\n",
       "       'Ovia SouthWest', 'OKOTA', 'Argungu', 'Okpe',\n",
       "       'Ajegunle,Lagos  State', 'Nnewi', 'AREPO', 'Irepodun',\n",
       "       'Ekiti South-West', 'Ogun Waterside', 'Ife North', 'RIVERS',\n",
       "       'Dopemu', 'Akure South', 'ONDO', 'Oyi ', 'Anambra East', 'Keffi',\n",
       "       'Etsako West', 'Uvwie', 'Ilorin', 'Akoka', 'Aba North',\n",
       "       'Awka North', 'Ibarapa Central', 'Ojo', 'AWOYAYA', 'Idemili North',\n",
       "       'Onitsha', 'IBA', 'Ikot Ekpene', 'Ijora', ' IFAKO', 'Niger State',\n",
       "       'Ogba/Egbema/Ndoni', 'Eleme', 'Ejigbo', 'Calabar Municipality',\n",
       "       'Abeokuta North', 'Yorro', 'Ilesha', 'Ikeja G.R.A', 'Goronyo',\n",
       "       'Chanchaga', 'AJAO ESTATE', 'Ekiti-East', 'Gombe', 'Ikotun', 'Iwo',\n",
       "       'AKOKO-EDO', 'Jibia', 'Obalende', 'Yenagoa', 'Ado-Odo/Ota',\n",
       "       'Oyo East', 'Rogo', 'Ilorin East', 'Ilesha West', 'Garki',\n",
       "       'kumbotso', 'Asa', 'Central Area, Abuja', 'Ukpoba', 'BARIGA',\n",
       "       'Ikenne', 'Kano', 'Ilasamaja', 'Ekeremor', 'ONIRU', 'SANGO OTTA',\n",
       "       'Owerri North', 'Umuahia', 'Eket', 'Garko', 'SANGOTEDO', 'Lokoja',\n",
       "       'Ilesha East', 'Esan Central', 'Isoko south', 'Ethiope East',\n",
       "       'QuaAn Pan', 'Warri North', 'Njaba', 'Akuku Toru', 'Ado-Ekiti',\n",
       "       'Agbor', 'Karu', 'Bauchi', 'Ijebu East', 'Orsu', 'MAGBORO',\n",
       "       'Bosso', 'Onitsha South', 'Ughelli North', 'Warri South',\n",
       "       'Nwangele', 'Abakaliki', 'Oyo West', 'Aba South', 'Ekiti',\n",
       "       'ALAPERE', 'ISHAGA', 'Isoko North', 'Oshimili North',\n",
       "       'Ndokwa East', 'Okrika', 'Tai ', 'OWODE', 'Oturkpo', 'Bida',\n",
       "       'Oshimili', 'Nnewi South', 'ENUGU SOUTH', 'Olamabolo', 'Ikwerre',\n",
       "       'Kajola', 'Palm Groove', 'Ijebu North', 'Akure North', 'Ohaukwu',\n",
       "       'Asari-Toru', 'Ogbomoso', 'AKOWONJO', 'VGC', 'Ankpa', 'Zaria',\n",
       "       'AGBARA', 'Idemili south', 'Ekwusigo', 'Hong', 'Ifako-Agege',\n",
       "       'Benue', 'Okpokwu', 'Ngor-Okpala'], dtype=object)"
      ]
     },
     "execution_count": 74,
     "metadata": {},
     "output_type": "execute_result"
    }
   ],
   "source": [
    "#5.LGA_Name\n",
    "\n",
    "df.LGA_Name.unique()"
   ]
  },
  {
   "cell_type": "code",
   "execution_count": 75,
   "metadata": {},
   "outputs": [],
   "source": [
    "#tranforming the uppercases to match with the rest\n",
    "\n",
    "df[\"LGA_Name\"]= df[\"LGA_Name\"].str.title()"
   ]
  },
  {
   "cell_type": "code",
   "execution_count": 76,
   "metadata": {},
   "outputs": [
    {
     "data": {
      "text/plain": [
       "array([nan, 'Lagos', 'Ikeja', 'Badagry', 'Eti-Osa', 'Victoria Island',\n",
       "       'Ikoyi', 'Lagos Mainland', 'Effurun', 'Abeokuta',\n",
       "       'Abuja Municipal', 'Yaba', 'Aguda', 'Surulere', 'Oshodi-Isolo',\n",
       "       'Alimosho', 'Okpe, Delta State', 'Asaba', 'Ibadancentral', 'Lekki',\n",
       "       'Ibeju/Lekki', 'Obanikoro', 'Agege', 'Isheri', 'Kosofe', 'Ogun',\n",
       "       'Apapa', 'Ibadan South West', 'Obia/Akpor', 'Ibadan South East',\n",
       "       'Sapele', 'Kaduna South', 'Ikorodu', 'Amuwo-Odofin', 'Awka',\n",
       "       'Gbagada', 'Port Harcourt', 'Minna', 'Shomolu', 'Benin',\n",
       "       'Lagos Island', 'Central', 'Ebute-Metta', 'Ketu', 'Uyo', 'Mushin',\n",
       "       'Katagum', 'Enugu East', 'Oredo', 'Abuja', 'Festac', 'Ipaja',\n",
       "       'Zaria ', 'Esan West', 'Oluyole', 'Bwari', 'Obafemi-Owode', 'Lga',\n",
       "       'Orile-Iganmu', 'Egbeda', 'Ido', 'Ifako-Ijaye ', 'Ibadan North',\n",
       "       'Oguta', 'Jos North', 'Ajah', 'Ondo West', 'Kaduna North', 'Warri',\n",
       "       'Aniocha South', 'Owerri', 'Awka South', 'Asokoro District',\n",
       "       'Ile-Oluji', 'Ijebu Ode', 'Port-Harcourt', 'Oshodi', 'Emene',\n",
       "       'Alagbado', 'Wuse 11', 'Egor', 'Biase', 'Shagamu', 'Nnewi North',\n",
       "       'Aboh-Mbaise', 'Ibadan North East', 'Akinyele', 'Oyo',\n",
       "       'Akoko North West', 'Ogba', 'Warri Central', 'Ilupeju', 'Calabar',\n",
       "       'Jos South', 'Onitsha North', 'Akute', 'Ifo', 'Ojodu', 'Bekwara',\n",
       "       'Ibadan North West', 'Epe', 'Maryland', 'Osogbo', 'Kuje', 'Idanre',\n",
       "       'Ajeromi-Ifelodun', 'Olorunsogo', 'Udu', 'Ogudu', 'Kano Municipal',\n",
       "       'Ife Central', 'Ilorin West', 'Lagelu Ogbomosho North', 'Katcha',\n",
       "       'Isolo', 'Akwa Ibom', 'Anthony Village', 'Abeokuta South',\n",
       "       'Magodo', 'Kaduna', 'Owerri-Municipal', 'Ojota', 'Somolu',\n",
       "       'Nsit Ubium', 'Bonny', 'Udi Agwu', 'Essien Udim', 'Owerri West ',\n",
       "       'Akure', 'Ijaiye', 'Ogbmosho South', 'Marina', 'Orolu',\n",
       "       'Umuahia South', 'Ile-Ife', 'Abule Egba', 'Enugu North',\n",
       "       'Ovia Southwest', 'Okota', 'Argungu', 'Okpe',\n",
       "       'Ajegunle,Lagos  State', 'Nnewi', 'Arepo', 'Irepodun',\n",
       "       'Ekiti South-West', 'Ogun Waterside', 'Ife North', 'Rivers',\n",
       "       'Dopemu', 'Akure South', 'Ondo', 'Oyi ', 'Anambra East', 'Keffi',\n",
       "       'Etsako West', 'Uvwie', 'Ilorin', 'Akoka', 'Aba North',\n",
       "       'Awka North', 'Ibarapa Central', 'Ojo', 'Awoyaya', 'Idemili North',\n",
       "       'Onitsha', 'Iba', 'Ikot Ekpene', 'Ijora', ' Ifako', 'Niger State',\n",
       "       'Ogba/Egbema/Ndoni', 'Eleme', 'Ejigbo', 'Calabar Municipality',\n",
       "       'Abeokuta North', 'Yorro', 'Ilesha', 'Ikeja G.R.A', 'Goronyo',\n",
       "       'Chanchaga', 'Ajao Estate', 'Ekiti-East', 'Gombe', 'Ikotun', 'Iwo',\n",
       "       'Akoko-Edo', 'Jibia', 'Obalende', 'Yenagoa', 'Ado-Odo/Ota',\n",
       "       'Oyo East', 'Rogo', 'Ilorin East', 'Ilesha West', 'Garki',\n",
       "       'Kumbotso', 'Asa', 'Central Area, Abuja', 'Ukpoba', 'Bariga',\n",
       "       'Ikenne', 'Kano', 'Ilasamaja', 'Ekeremor', 'Oniru', 'Sango Otta',\n",
       "       'Owerri North', 'Umuahia', 'Eket', 'Garko', 'Sangotedo', 'Lokoja',\n",
       "       'Ilesha East', 'Esan Central', 'Isoko South', 'Ethiope East',\n",
       "       'Quaan Pan', 'Warri North', 'Njaba', 'Akuku Toru', 'Ado-Ekiti',\n",
       "       'Agbor', 'Karu', 'Bauchi', 'Ijebu East', 'Orsu', 'Magboro',\n",
       "       'Bosso', 'Onitsha South', 'Ughelli North', 'Warri South',\n",
       "       'Nwangele', 'Abakaliki', 'Oyo West', 'Aba South', 'Ekiti',\n",
       "       'Alapere', 'Ishaga', 'Isoko North', 'Oshimili North',\n",
       "       'Ndokwa East', 'Okrika', 'Tai ', 'Owode', 'Oturkpo', 'Bida',\n",
       "       'Oshimili', 'Nnewi South', 'Enugu South', 'Olamabolo', 'Ikwerre',\n",
       "       'Kajola', 'Palm Groove', 'Ijebu North', 'Akure North', 'Ohaukwu',\n",
       "       'Asari-Toru', 'Ogbomoso', 'Akowonjo', 'Vgc', 'Ankpa', 'Zaria',\n",
       "       'Agbara', 'Idemili South', 'Ekwusigo', 'Hong', 'Ifako-Agege',\n",
       "       'Benue', 'Okpokwu', 'Ngor-Okpala'], dtype=object)"
      ]
     },
     "execution_count": 76,
     "metadata": {},
     "output_type": "execute_result"
    }
   ],
   "source": [
    "df.LGA_Name.unique()"
   ]
  },
  {
   "cell_type": "code",
   "execution_count": 77,
   "metadata": {},
   "outputs": [
    {
     "data": {
      "text/plain": [
       "array([nan, 'Lagos', 'Benue', 'Eti-Osa', 'Delta', 'Ogun',\n",
       "       'Abuja-Municipal', 'Oshodi-Isolo', 'Ibeju-Lekki', 'Ibadan-West',\n",
       "       'Obia-Akpor', 'Ibadan-East', 'Kaduna-South', 'Amuwo-Odofin',\n",
       "       'Anambra', 'Rivers', 'Niger-State', 'Edo', 'Akwa-Ibom',\n",
       "       'ENUGU-EAST', 'Abuja', 'Kaduna', 'Esan-West', 'Obafemi-Owode',\n",
       "       'Orile-Iganmu', 'Ifako-Ijaye', 'Ibadan-North', 'Imo', 'Jos-North',\n",
       "       'Ondo-West', 'Kaduna-North', 'Aniocha-South', 'Awka-South',\n",
       "       'Ile-Oluji', 'Ijebu-Ode', 'Port-Harcourt', 'Nnewi-North',\n",
       "       'Aboh-Mbaise', 'Oyo', 'Akoko-West', 'Warri-Central', 'Cross-River',\n",
       "       'Jos-South', 'Onitsha-North', 'Osun', 'Ajeromi-Ifelodun',\n",
       "       'Kano-Municipal', 'Ife-Central', 'Ilorin-West', 'Lagelu-North',\n",
       "       'Owerri-Municipal', 'Nsit-Ubium', 'Udi-Agwu', 'Essien-Udim',\n",
       "       'Owerri-West', 'Ondo', 'Ogbmosho-South', 'Umuahia-South',\n",
       "       'ABULE-EGBA', 'Enugu-North', 'Ovia-SouthWest', 'Kebbi',\n",
       "       'Ajegunle-State', 'Ekiti-West', 'Ogun-Waterside', 'Ife-North',\n",
       "       'Anambra-East', 'Nasarawa', 'Etsako-West', 'Kwara', 'Aba-North',\n",
       "       'Awka-North', 'Ibarapa-Central', 'Idemili-North', 'Ogba-Ndoni',\n",
       "       'Calabar-Municipality', 'AJAO-ESTATE', 'Ekiti-East', 'Gombe',\n",
       "       'Bayelsa', 'Ado-Ota', 'Oyo-East', 'Ilorin-East', 'Ilesha-West',\n",
       "       'Central-Abuja', 'Kano', 'Owerri-North', 'Abia', 'Kogi',\n",
       "       'Ilesha-East', 'Esan-Central', 'Isoko-south', 'Ethiope-East',\n",
       "       'QuaAn-Pan', 'Warri-North', 'Ado-Ekiti', 'Bauchi', 'Ijebu-East',\n",
       "       'Onitsha-South', 'Ughelli-North', 'Warri-South', 'Ebonyi',\n",
       "       'Oyo-West', 'Aba-South', 'N-A', 'Isoko-North', 'Oshimili-North',\n",
       "       'Ndokwa-East', 'Nnewi-South', 'ENUGU-SOUTH', 'Ijebu-North',\n",
       "       'Asari-Toru', 'Idemili-south', 'Ngor-Okpala'], dtype=object)"
      ]
     },
     "execution_count": 77,
     "metadata": {},
     "output_type": "execute_result"
    }
   ],
   "source": [
    "#6.State\n",
    "\n",
    "df.State.unique()"
   ]
  },
  {
   "cell_type": "code",
   "execution_count": 78,
   "metadata": {},
   "outputs": [],
   "source": [
    "#tranforming the uppercases to match with the rest\n",
    "\n",
    "df[\"State\"]= df[\"State\"].str.title()"
   ]
  },
  {
   "cell_type": "code",
   "execution_count": 116,
   "metadata": {},
   "outputs": [
    {
     "data": {
      "text/plain": [
       "array(['Car Classic', 'CarSafe', 'Muuve', 'CVTP', 'Car Plus',\n",
       "       'Motor Cycle', 'Customized Motor', 'CarFlex', 'Car Vintage'],\n",
       "      dtype=object)"
      ]
     },
     "execution_count": 116,
     "metadata": {},
     "output_type": "execute_result"
    }
   ],
   "source": [
    "#7. ProductName\n",
    "\n",
    "df.ProductName.unique()"
   ]
  },
  {
   "cell_type": "markdown",
   "metadata": {},
   "source": [
    "Handling The Missing Values"
   ]
  },
  {
   "cell_type": "code",
   "execution_count": 144,
   "metadata": {},
   "outputs": [
    {
     "data": {
      "text/plain": [
       "Black     2616\n",
       "Grey       722\n",
       "Silver     609\n",
       "Blue       406\n",
       "Red        389\n",
       "White      329\n",
       "Green      263\n",
       "Gold       205\n",
       "Brown       65\n",
       "Yellow       9\n",
       "Orange       5\n",
       "Purple       4\n",
       "Name: Subject_Car_Colour, dtype: int64"
      ]
     },
     "execution_count": 144,
     "metadata": {},
     "output_type": "execute_result"
    }
   ],
   "source": [
    "df['Subject_Car_Colour'].value_counts()"
   ]
  },
  {
   "cell_type": "code",
   "execution_count": 145,
   "metadata": {},
   "outputs": [],
   "source": [
    "# \"Subject_Car_Colour\"\n",
    "\n",
    "df[\"Subject_Car_Colour\"] = df[\"Subject_Car_Colour\"].fillna(method = \"bfill\")\n"
   ]
  },
  {
   "cell_type": "code",
   "execution_count": 146,
   "metadata": {},
   "outputs": [
    {
     "data": {
      "text/plain": [
       "Black     6151\n",
       "Grey      1689\n",
       "Silver    1413\n",
       "Red       1005\n",
       "Blue      1000\n",
       "White      756\n",
       "Green      585\n",
       "Gold       480\n",
       "Brown      152\n",
       "Yellow      28\n",
       "Orange      14\n",
       "Purple       8\n",
       "Name: Subject_Car_Colour, dtype: int64"
      ]
     },
     "execution_count": 146,
     "metadata": {},
     "output_type": "execute_result"
    }
   ],
   "source": [
    "df[\"Subject_Car_Colour\"].value_counts()"
   ]
  },
  {
   "cell_type": "code",
   "execution_count": 147,
   "metadata": {},
   "outputs": [
    {
     "data": {
      "text/plain": [
       "TOYOTA       5466\n",
       "Honda        1146\n",
       "Lexus         654\n",
       "Mercedes      577\n",
       "Hyundai       512\n",
       "             ... \n",
       "Caddillac       1\n",
       "Geely           1\n",
       "ZOYTE           1\n",
       "Bajaj           1\n",
       "Datsun          1\n",
       "Name: Subject_Car_Make, Length: 75, dtype: int64"
      ]
     },
     "execution_count": 147,
     "metadata": {},
     "output_type": "execute_result"
    }
   ],
   "source": [
    "df[\"Subject_Car_Make\"].value_counts()"
   ]
  },
  {
   "cell_type": "code",
   "execution_count": 148,
   "metadata": {},
   "outputs": [],
   "source": [
    "# \"Subject_Car_Make\"\n",
    "\n",
    "df[\"Subject_Car_Make\"] = df[\"Subject_Car_Make\"].fillna(method = \"bfill\")"
   ]
  },
  {
   "cell_type": "code",
   "execution_count": 149,
   "metadata": {},
   "outputs": [
    {
     "data": {
      "text/plain": [
       "TOYOTA       6870\n",
       "Honda        1440\n",
       "Lexus         820\n",
       "Mercedes      735\n",
       "Hyundai       651\n",
       "             ... \n",
       "Howo            1\n",
       "Caddillac       1\n",
       "MG              1\n",
       "Buik            1\n",
       "Datsun          1\n",
       "Name: Subject_Car_Make, Length: 75, dtype: int64"
      ]
     },
     "execution_count": 149,
     "metadata": {},
     "output_type": "execute_result"
    }
   ],
   "source": [
    "df[\"Subject_Car_Make\"].value_counts()"
   ]
  },
  {
   "cell_type": "code",
   "execution_count": null,
   "metadata": {},
   "outputs": [],
   "source": [
    "#to re-inspect our dataset\n",
    "df.info()"
   ]
  },
  {
   "cell_type": "code",
   "execution_count": 151,
   "metadata": {},
   "outputs": [
    {
     "data": {
      "text/plain": [
       "Index(['ID', 'Policy Start Date', 'Policy End Date', 'Gender', 'Age',\n",
       "       'First Transaction Date', 'No_Pol', 'Car_Category',\n",
       "       'Subject_Car_Colour', 'Subject_Car_Make', 'LGA_Name', 'State',\n",
       "       'ProductName', 'target'],\n",
       "      dtype='object')"
      ]
     },
     "execution_count": 151,
     "metadata": {},
     "output_type": "execute_result"
    }
   ],
   "source": [
    "df.columns"
   ]
  },
  {
   "cell_type": "code",
   "execution_count": 152,
   "metadata": {},
   "outputs": [
    {
     "data": {
      "text/plain": [
       "array(['Saloon', 'Jeep', nan, 'Motorcycle', 'Truck', 'Bus', 'Pick Up',\n",
       "       'Van', 'Wagon', 'Sedan'], dtype=object)"
      ]
     },
     "execution_count": 152,
     "metadata": {},
     "output_type": "execute_result"
    }
   ],
   "source": [
    "df['Car_Category'].unique()"
   ]
  },
  {
   "cell_type": "code",
   "execution_count": null,
   "metadata": {},
   "outputs": [],
   "source": []
  },
  {
   "cell_type": "code",
   "execution_count": null,
   "metadata": {},
   "outputs": [],
   "source": []
  },
  {
   "cell_type": "code",
   "execution_count": null,
   "metadata": {},
   "outputs": [],
   "source": []
  },
  {
   "cell_type": "markdown",
   "metadata": {},
   "source": [
    "# Normalisation and Standardisation"
   ]
  },
  {
   "cell_type": "markdown",
   "metadata": {},
   "source": [
    "Feature transformation"
   ]
  },
  {
   "cell_type": "code",
   "execution_count": null,
   "metadata": {},
   "outputs": [],
   "source": [
    "#Feature transformation involves working through our data \n",
    "#to inspect for the following:\n",
    "\n",
    "#1. Varying SCALES across the features in our data\n",
    "#2. Inspecting the standard error in each feature and \n",
    "#across our features.\n",
    "#3. Checking for non-normal distribution in our data"
   ]
  },
  {
   "cell_type": "code",
   "execution_count": null,
   "metadata": {},
   "outputs": [],
   "source": [
    "#conducting a general inspection of the behavior of \n",
    "#our data\n",
    "\n",
    "df.describe().T"
   ]
  },
  {
   "cell_type": "markdown",
   "metadata": {},
   "source": [
    "Visual Inspection of our data"
   ]
  },
  {
   "cell_type": "code",
   "execution_count": null,
   "metadata": {},
   "outputs": [],
   "source": [
    "df.Age.plot(kind=\"density\");\n",
    "\n",
    "#the distribution below is abnormal"
   ]
  },
  {
   "cell_type": "code",
   "execution_count": null,
   "metadata": {},
   "outputs": [],
   "source": [
    "df.No_Pol.plot(kind=\"density\");\n",
    "\n",
    "#the distribution below is abnormal"
   ]
  },
  {
   "cell_type": "code",
   "execution_count": null,
   "metadata": {},
   "outputs": [],
   "source": [
    "df.target.plot(kind=\"density\");\n",
    "\n",
    "#the distribution below is abnormal"
   ]
  },
  {
   "cell_type": "code",
   "execution_count": null,
   "metadata": {},
   "outputs": [],
   "source": []
  }
 ],
 "metadata": {
  "kernelspec": {
   "display_name": "Python 3",
   "language": "python",
   "name": "python3"
  },
  "language_info": {
   "codemirror_mode": {
    "name": "ipython",
    "version": 3
   },
   "file_extension": ".py",
   "mimetype": "text/x-python",
   "name": "python",
   "nbconvert_exporter": "python",
   "pygments_lexer": "ipython3",
   "version": "3.7.6"
  }
 },
 "nbformat": 4,
 "nbformat_minor": 5
}
